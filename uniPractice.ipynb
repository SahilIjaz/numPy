{
 "cells": [
  {
   "cell_type": "code",
   "execution_count": 1,
   "id": "35550b9d",
   "metadata": {},
   "outputs": [
    {
     "name": "stdout",
     "output_type": "stream",
     "text": [
      "list is [1, 2, 3, 4]\n"
     ]
    }
   ],
   "source": [
    "arr =[1,2,3,4]\n",
    "print('list is',arr)"
   ]
  },
  {
   "cell_type": "code",
   "execution_count": 2,
   "id": "71f8e8ea",
   "metadata": {},
   "outputs": [
    {
     "name": "stdout",
     "output_type": "stream",
     "text": [
      "list is ['first', 'second', 'Last']\n",
      "first element of lis is first\n",
      "klast element of list is: Last\n"
     ]
    }
   ],
   "source": [
    "list =[\"first\",'second','Last']\n",
    "print('list is',list)\n",
    "print(\"first element of lis is\",list[0])\n",
    "print('klast element of list is:',list[-1])"
   ]
  },
  {
   "cell_type": "code",
   "execution_count": 3,
   "id": "7fb9c988",
   "metadata": {},
   "outputs": [
    {
     "name": "stdout",
     "output_type": "stream",
     "text": [
      "list is ['hy', 'hello', 'hi']\n",
      "list is ['asalam', 'hello', 'hi']\n"
     ]
    }
   ],
   "source": [
    "listIS = ['hy','hello','hi']\n",
    "print('list is',listIS)\n",
    "listIS[0]='asalam'\n",
    "print('list is',listIS)"
   ]
  },
  {
   "cell_type": "code",
   "execution_count": 4,
   "id": "e1f17df2",
   "metadata": {},
   "outputs": [
    {
     "name": "stdout",
     "output_type": "stream",
     "text": [
      "list is [1, 2, 3, 4, 6]\n"
     ]
    }
   ],
   "source": [
    "lsi =[1,2,3,4]\n",
    "lsi.append(6)\n",
    "print('list is',lsi)"
   ]
  },
  {
   "cell_type": "code",
   "execution_count": 5,
   "id": "175e0269",
   "metadata": {},
   "outputs": [
    {
     "name": "stdout",
     "output_type": "stream",
     "text": [
      "yes 4 is in the list\n"
     ]
    }
   ],
   "source": [
    "list =[1,2,3,4,4]\n",
    "\n",
    "if 4 in list:\n",
    "    print('yes 4 is in the list')"
   ]
  },
  {
   "cell_type": "code",
   "execution_count": 6,
   "id": "f234d28a",
   "metadata": {},
   "outputs": [
    {
     "name": "stdout",
     "output_type": "stream",
     "text": [
      "lhr\n",
      "gjrt\n",
      "islmbd\n",
      "peshwar\n",
      "LENGTH OF LIST IS  4\n"
     ]
    }
   ],
   "source": [
    "listCities = ['lhr','gjrt','islmbd','peshwar']\n",
    "\n",
    "for city in listCities:\n",
    "    print(city)\n",
    "\n",
    "\n",
    "\n",
    "print('LENGTH OF LIST IS ',len(listCities))"
   ]
  },
  {
   "cell_type": "code",
   "execution_count": 8,
   "id": "9ddeeeae",
   "metadata": {},
   "outputs": [
    {
     "data": {
      "text/plain": [
       "6"
      ]
     },
     "execution_count": 8,
     "metadata": {},
     "output_type": "execute_result"
    }
   ],
   "source": [
    "def calculator(a,b,ch):\n",
    "    if ch=='+':\n",
    "        return a+b\n",
    "    elif ch=='-':\n",
    "        return a-b\n",
    "    elif ch=='*':\n",
    "        return a+b\n",
    "    elif ch =='/':\n",
    "        return a/b\n",
    "    else:\n",
    "        return 'Invalid operator.'\n",
    "\n",
    "calculator(4,2,'+')"
   ]
  },
  {
   "cell_type": "code",
   "execution_count": 9,
   "id": "344e4957",
   "metadata": {},
   "outputs": [
    {
     "name": "stdout",
     "output_type": "stream",
     "text": [
      "done\n"
     ]
    }
   ],
   "source": [
    "print ('done')"
   ]
  },
  {
   "cell_type": "code",
   "execution_count": 10,
   "id": "2e3fe6ea",
   "metadata": {},
   "outputs": [
    {
     "name": "stdout",
     "output_type": "stream",
     "text": [
      "done_1\n"
     ]
    }
   ],
   "source": [
    "print ('done_1')"
   ]
  },
  {
   "cell_type": "code",
   "execution_count": null,
   "id": "be78568a",
   "metadata": {},
   "outputs": [],
   "source": []
  }
 ],
 "metadata": {
  "kernelspec": {
   "display_name": "venv (3.13.7)",
   "language": "python",
   "name": "python3"
  },
  "language_info": {
   "codemirror_mode": {
    "name": "ipython",
    "version": 3
   },
   "file_extension": ".py",
   "mimetype": "text/x-python",
   "name": "python",
   "nbconvert_exporter": "python",
   "pygments_lexer": "ipython3",
   "version": "3.13.7"
  }
 },
 "nbformat": 4,
 "nbformat_minor": 5
}
