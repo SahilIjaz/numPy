{
 "cells": [
  {
   "cell_type": "code",
   "execution_count": 1,
   "id": "35550b9d",
   "metadata": {},
   "outputs": [
    {
     "name": "stdout",
     "output_type": "stream",
     "text": [
      "list is [1, 2, 3, 4]\n"
     ]
    }
   ],
   "source": [
    "arr =[1,2,3,4]\n",
    "print('list is',arr)"
   ]
  },
  {
   "cell_type": "code",
   "execution_count": 2,
   "id": "71f8e8ea",
   "metadata": {},
   "outputs": [
    {
     "name": "stdout",
     "output_type": "stream",
     "text": [
      "list is ['first', 'second', 'Last']\n",
      "first element of lis is first\n",
      "klast element of list is: Last\n"
     ]
    }
   ],
   "source": [
    "list =[\"first\",'second','Last']\n",
    "print('list is',list)\n",
    "print(\"first element of lis is\",list[0])\n",
    "print('klast element of list is:',list[-1])"
   ]
  },
  {
   "cell_type": "code",
   "execution_count": null,
   "id": "7fb9c988",
   "metadata": {},
   "outputs": [],
   "source": []
  }
 ],
 "metadata": {
  "kernelspec": {
   "display_name": "venv (3.13.7)",
   "language": "python",
   "name": "python3"
  },
  "language_info": {
   "codemirror_mode": {
    "name": "ipython",
    "version": 3
   },
   "file_extension": ".py",
   "mimetype": "text/x-python",
   "name": "python",
   "nbconvert_exporter": "python",
   "pygments_lexer": "ipython3",
   "version": "3.13.7"
  }
 },
 "nbformat": 4,
 "nbformat_minor": 5
}
