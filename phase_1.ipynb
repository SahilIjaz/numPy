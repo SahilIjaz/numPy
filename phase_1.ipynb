{
 "cells": [
  {
   "cell_type": "code",
   "execution_count": 3,
   "id": "aa47d2f8",
   "metadata": {},
   "outputs": [],
   "source": [
    "import numpy as np"
   ]
  },
  {
   "cell_type": "code",
   "execution_count": 6,
   "id": "6649861b",
   "metadata": {},
   "outputs": [
    {
     "name": "stdout",
     "output_type": "stream",
     "text": [
      "Array id is : [1 2 3 4 5]\n",
      "2D array is: [[1 2 3]\n",
      " [4 5 6]]\n"
     ]
    }
   ],
   "source": [
    "arr_1d = np.array([1,2,3,4,5])\n",
    "print(\"Array id is :\",arr_1d)\n",
    "\n",
    "arr_2d = np.array([[1,2,3],[4,5,6]])\n",
    "\n",
    "print('2D array is:',arr_2d)"
   ]
  },
  {
   "cell_type": "markdown",
   "id": "a9be0951",
   "metadata": {},
   "source": [
    "### LIST VS NUMPY ARRAY"
   ]
  },
  {
   "cell_type": "code",
   "execution_count": 7,
   "id": "2c8939a7",
   "metadata": {},
   "outputs": [
    {
     "name": "stdout",
     "output_type": "stream",
     "text": [
      "List ultiplid by 2 is: [1, 2, 3, 4, 1, 2, 3, 4]\n"
     ]
    }
   ],
   "source": [
    "list =[1,2,3,4]\n",
    "print(\"List ultiplid by 2 is:\",list * 2)"
   ]
  },
  {
   "cell_type": "code",
   "execution_count": 8,
   "id": "94089fd4",
   "metadata": {},
   "outputs": [
    {
     "name": "stdout",
     "output_type": "stream",
     "text": [
      "Numpy array multiplied by 2 is: [2 4 6 8]\n"
     ]
    }
   ],
   "source": [
    "arrNp = np.array([1,2,3,4])\n",
    "print(\"Numpy array multiplied by 2 is:\",arrNp * 2)"
   ]
  },
  {
   "cell_type": "code",
   "execution_count": 9,
   "id": "88d6e440",
   "metadata": {},
   "outputs": [
    {
     "name": "stdout",
     "output_type": "stream",
     "text": [
      "Zero matrix is:\n",
      " [[0. 0. 0. 0.]\n",
      " [0. 0. 0. 0.]\n",
      " [0. 0. 0. 0.]]\n"
     ]
    }
   ],
   "source": [
    "zeroMat =np.zeros([3,4])\n",
    "print(\"Zero matrix is:\\n\",zeroMat)"
   ]
  },
  {
   "cell_type": "code",
   "execution_count": 10,
   "id": "6853c98a",
   "metadata": {},
   "outputs": [
    {
     "name": "stdout",
     "output_type": "stream",
     "text": [
      "Ones matrix is:\n",
      " [[1. 1. 1.]\n",
      " [1. 1. 1.]]\n"
     ]
    }
   ],
   "source": [
    "onesmat = np.ones([2,3])\n",
    "print(\"Ones matrix is:\\n\",onesmat)\n"
   ]
  },
  {
   "cell_type": "code",
   "execution_count": 14,
   "id": "9ba2e0cd",
   "metadata": {},
   "outputs": [
    {
     "name": "stdout",
     "output_type": "stream",
     "text": [
      "Random matrix is:\n",
      " [[58.57624728 44.42580256 89.33559588 46.00589878]\n",
      " [96.1856206  81.5331485  96.63929171 50.88372877]\n",
      " [71.04347828 27.45104004 74.33200132 43.28539598]]\n"
     ]
    }
   ],
   "source": [
    "randomMat = np.random.random([3,4])\n",
    "print(\"Random matrix is:\\n\",randomMat * 100)"
   ]
  },
  {
   "cell_type": "code",
   "execution_count": 15,
   "id": "58aa0906",
   "metadata": {},
   "outputs": [
    {
     "name": "stdout",
     "output_type": "stream",
     "text": [
      "Array of odd numbers is: [ 0  1  2  3  4  5  6  7  8  9 10]\n"
     ]
    }
   ],
   "source": [
    "arrOD = np.arange(11)\n",
    "print(\"Array of odd numbers is:\",arrOD)"
   ]
  },
  {
   "cell_type": "code",
   "execution_count": 16,
   "id": "79eb8723",
   "metadata": {},
   "outputs": [
    {
     "name": "stdout",
     "output_type": "stream",
     "text": [
      "Array shape is: (4,)\n",
      "Reshaped array is:\n",
      " [[1 2]\n",
      " [3 4]]\n",
      "New shape of array is: (2, 2)\n"
     ]
    }
   ],
   "source": [
    "arr = np.array([1,2,3,4])\n",
    "print(\"Array shape is:\",arr.shape)\n",
    "arr = arr.reshape(2,2)\n",
    "print(\"Reshaped array is:\\n\",arr)\n",
    "print(\"New shape of array is:\",arr.shape)   "
   ]
  },
  {
   "cell_type": "code",
   "execution_count": null,
   "id": "6de138cd",
   "metadata": {},
   "outputs": [],
   "source": []
  }
 ],
 "metadata": {
  "kernelspec": {
   "display_name": "venv (3.13.7)",
   "language": "python",
   "name": "python3"
  },
  "language_info": {
   "codemirror_mode": {
    "name": "ipython",
    "version": 3
   },
   "file_extension": ".py",
   "mimetype": "text/x-python",
   "name": "python",
   "nbconvert_exporter": "python",
   "pygments_lexer": "ipython3",
   "version": "3.13.7"
  }
 },
 "nbformat": 4,
 "nbformat_minor": 5
}
