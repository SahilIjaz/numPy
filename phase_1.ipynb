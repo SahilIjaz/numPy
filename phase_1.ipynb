{
 "cells": [
  {
   "cell_type": "code",
   "execution_count": 3,
   "id": "aa47d2f8",
   "metadata": {},
   "outputs": [],
   "source": [
    "import numpy as np"
   ]
  },
  {
   "cell_type": "code",
   "execution_count": 6,
   "id": "6649861b",
   "metadata": {},
   "outputs": [
    {
     "name": "stdout",
     "output_type": "stream",
     "text": [
      "Array id is : [1 2 3 4 5]\n",
      "2D array is: [[1 2 3]\n",
      " [4 5 6]]\n"
     ]
    }
   ],
   "source": [
    "arr_1d = np.array([1,2,3,4,5])\n",
    "print(\"Array id is :\",arr_1d)\n",
    "\n",
    "arr_2d = np.array([[1,2,3],[4,5,6]])\n",
    "\n",
    "print('2D array is:',arr_2d)"
   ]
  },
  {
   "cell_type": "markdown",
   "id": "a9be0951",
   "metadata": {},
   "source": [
    "### LIST VS NUMPY ARRAY"
   ]
  },
  {
   "cell_type": "code",
   "execution_count": 7,
   "id": "2c8939a7",
   "metadata": {},
   "outputs": [
    {
     "name": "stdout",
     "output_type": "stream",
     "text": [
      "List ultiplid by 2 is: [1, 2, 3, 4, 1, 2, 3, 4]\n"
     ]
    }
   ],
   "source": [
    "list =[1,2,3,4]\n",
    "print(\"List ultiplid by 2 is:\",list * 2)"
   ]
  },
  {
   "cell_type": "code",
   "execution_count": 8,
   "id": "94089fd4",
   "metadata": {},
   "outputs": [
    {
     "name": "stdout",
     "output_type": "stream",
     "text": [
      "Numpy array multiplied by 2 is: [2 4 6 8]\n"
     ]
    }
   ],
   "source": [
    "arrNp = np.array([1,2,3,4])\n",
    "print(\"Numpy array multiplied by 2 is:\",arrNp * 2)"
   ]
  },
  {
   "cell_type": "code",
   "execution_count": 9,
   "id": "88d6e440",
   "metadata": {},
   "outputs": [
    {
     "name": "stdout",
     "output_type": "stream",
     "text": [
      "Zero matrix is:\n",
      " [[0. 0. 0. 0.]\n",
      " [0. 0. 0. 0.]\n",
      " [0. 0. 0. 0.]]\n"
     ]
    }
   ],
   "source": [
    "zeroMat =np.zeros([3,4])\n",
    "print(\"Zero matrix is:\\n\",zeroMat)"
   ]
  },
  {
   "cell_type": "code",
   "execution_count": 10,
   "id": "6853c98a",
   "metadata": {},
   "outputs": [
    {
     "name": "stdout",
     "output_type": "stream",
     "text": [
      "Ones matrix is:\n",
      " [[1. 1. 1.]\n",
      " [1. 1. 1.]]\n"
     ]
    }
   ],
   "source": [
    "onesmat = np.ones([2,3])\n",
    "print(\"Ones matrix is:\\n\",onesmat)\n"
   ]
  },
  {
   "cell_type": "code",
   "execution_count": 11,
   "id": "9ba2e0cd",
   "metadata": {},
   "outputs": [
    {
     "name": "stdout",
     "output_type": "stream",
     "text": [
      "Random matrix is:\n",
      " [[0.38664974 0.31155314 0.00182914 0.15821845]\n",
      " [0.01218114 0.26001254 0.66947136 0.79159027]\n",
      " [0.35168106 0.55469087 0.98051244 0.79059319]]\n"
     ]
    }
   ],
   "source": [
    "randomMat = np.random.random([3,4])\n",
    "print(\"Random matrix is:\\n\",randomMat)"
   ]
  },
  {
   "cell_type": "code",
   "execution_count": null,
   "id": "58aa0906",
   "metadata": {},
   "outputs": [],
   "source": []
  }
 ],
 "metadata": {
  "kernelspec": {
   "display_name": "venv (3.13.7)",
   "language": "python",
   "name": "python3"
  },
  "language_info": {
   "codemirror_mode": {
    "name": "ipython",
    "version": 3
   },
   "file_extension": ".py",
   "mimetype": "text/x-python",
   "name": "python",
   "nbconvert_exporter": "python",
   "pygments_lexer": "ipython3",
   "version": "3.13.7"
  }
 },
 "nbformat": 4,
 "nbformat_minor": 5
}
